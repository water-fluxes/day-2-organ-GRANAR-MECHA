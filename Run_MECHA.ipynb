{
 "cells": [
  {
   "cell_type": "markdown",
   "metadata": {
    "deletable": true,
    "editable": true
   },
   "source": [
    "# MECHA:\n",
    "\n",
    "MECHA estimates the radial hydraulic conductivities of root cross section based on sub-cellular hycraulic properties.\n",
    "\n",
    "Among the Maturity level:\n",
    " - 0: No apoplastic barriers\n",
    " - 1: Endodermal Casparian strip (radial walls)\n",
    " - 2: Endodermal suberization except at passage cells\n",
    " - 3: Endodermis full suberization\n",
    " - 4: Endodermis full suberization and exodermal Casparian strip (radial walls)\n",
    "\n",
    "\n",
    "### First sample\n",
    "\n",
    "Run `current_root.xml` with default hydraulic properties from `Maize_Hydraulics.xml`  "
   ]
  },
  {
   "cell_type": "code",
   "execution_count": null,
   "metadata": {
    "collapsed": false,
    "deletable": true,
    "editable": true
   },
   "outputs": [
    {
     "name": "stdout",
     "output_type": "stream",
     "text": [
      "Importing geometrical data\n",
      "Import Geometrical data\n",
      "Creating network nodes\n",
      "Creating network connections\n",
      "Importing hydraulic data\n",
      "Maturity #0 with apoplastic barrier type #1\n",
      "Radial conductivity: 0.00016366878594094897 cm/hPa/d\n",
      "Maturity #1 with apoplastic barrier type #4\n",
      "Radial conductivity: 4.794135423239936e-05 cm/hPa/d\n",
      "End of mecha\n"
     ]
    }
   ],
   "source": [
    "from mecha_function import *\n",
    "\n",
    "mecha()"
   ]
  },
  {
   "cell_type": "markdown",
   "id": "5c8bcf84",
   "metadata": {},
   "source": [
    "## Sensitivity analysis over anatomical traits\n",
    "\n",
    "Once you updated `current_root.xml`, run the following cell "
   ]
  },
  {
   "cell_type": "code",
   "execution_count": null,
   "id": "6df2fed3",
   "metadata": {},
   "outputs": [],
   "source": [
    "\n",
    "# Update the output path\n",
    "update_xml_attributes(\n",
    "    \"./MECHA/Projects/granar/in/Maize_General.xml\",\n",
    "    parent_tag=\"Output\",\n",
    "    child_tag=\"Output\",\n",
    "    updates = {\"path\":'out_sa/'}\n",
    ")\n",
    "# Run Mecha\n",
    "mecha(Geom='Maize_Geometry_aer_sensitivity.xml') # lateral root with default hydraulic properties\n"
   ]
  },
  {
   "cell_type": "markdown",
   "id": "74e68e73",
   "metadata": {},
   "source": [
    "## $kr$ for different root types\n",
    "\n",
    "Simulate $kr$ for multiple root types:\n",
    "- lateral\n",
    "- seminal / embryonic\n",
    "- crown / nodal"
   ]
  },
  {
   "cell_type": "code",
   "execution_count": null,
   "id": "80f39e8f",
   "metadata": {},
   "outputs": [],
   "source": [
    "\n",
    "# Update the geometry path\n",
    "update_xml_attributes(\n",
    "    \"./MECHA/Projects/granar/in/Maize_Geometry_aer_lat.xml\",\n",
    "    parent_tag=\"path\",\n",
    "    child_tag=\"path\",\n",
    "    updates = {\"value\":\"root_lat.xml\"}\n",
    ")\n",
    "# Update the output path\n",
    "update_xml_attributes(\n",
    "    \"./MECHA/Projects/granar/in/Maize_General.xml\",\n",
    "    parent_tag=\"Output\",\n",
    "    child_tag=\"Output\",\n",
    "    updates = {\"path\":'out_lat/'}\n",
    ")\n",
    "# Run Mecha\n",
    "mecha(Geom='Maize_Geometry_aer_lat.xml') # lateral root with default hydraulic properties\n"
   ]
  },
  {
   "cell_type": "code",
   "execution_count": null,
   "id": "7dab1357",
   "metadata": {},
   "outputs": [],
   "source": [
    "# Update the geometry path\n",
    "update_xml_attributes(\n",
    "    \"./MECHA/Projects/granar/in/Maize_Geometry_aer_sem.xml\",\n",
    "    parent_tag=\"path\",\n",
    "    child_tag=\"path\",\n",
    "    updates = {\"value\":\"root_sem.xml\"}\n",
    ")\n",
    "# Update the output path\n",
    "update_xml_attributes(\n",
    "    \"./MECHA/Projects/granar/in/Maize_General.xml\",\n",
    "    parent_tag=\"Output\",\n",
    "    child_tag=\"Output\",\n",
    "    updates = {\"path\":'out_sem/'}\n",
    ")\n",
    "# Run Mecha\n",
    "mecha(Geom='Maize_Geometry_aer_sem.xml', Hydr=\"Maize_Hydraulics.xml\") # seminal root with default hydraulic properties"
   ]
  },
  {
   "cell_type": "code",
   "execution_count": null,
   "id": "bdd7f9bd",
   "metadata": {},
   "outputs": [],
   "source": [
    "\n",
    "\n",
    "# Update the geometry path\n",
    "update_xml_attributes(\n",
    "    \"./MECHA/Projects/granar/in/Maize_Geometry_aer_nod.xml\",\n",
    "    parent_tag=\"path\",\n",
    "    child_tag=\"path\",\n",
    "    updates = {\"value\":\"root_nod.xml\"}\n",
    ")\n",
    "# Update the output path\n",
    "update_xml_attributes(\n",
    "    \"./MECHA/Projects/granar/in/Maize_General.xml\",\n",
    "    parent_tag=\"Output\",\n",
    "    child_tag=\"Output\",\n",
    "    updates = {\"path\":'out_nod/'}\n",
    ")\n",
    "# Run Mecha\n",
    "mecha(Geom='Maize_Geometry_aer_nod.xml') # seminal root default hydraulic properties"
   ]
  },
  {
   "cell_type": "markdown",
   "id": "843c690d",
   "metadata": {},
   "source": [
    "## Computing $kr$ from root cross-section dataset "
   ]
  },
  {
   "cell_type": "code",
   "execution_count": null,
   "id": "2960a9b4",
   "metadata": {},
   "outputs": [],
   "source": [
    "# Update the geometry path\n",
    "update_xml_attributes(\n",
    "    \"./MECHA/Projects/granar/in/Maize_Geometry_aer_test.xml\",\n",
    "    parent_tag=\"path\",\n",
    "    child_tag=\"path\",\n",
    "    updates = {\"value\":\"test_root.xml\"}\n",
    ")\n",
    "# Update the output path\n",
    "update_xml_attributes(\n",
    "    \"./MECHA/Projects/granar/in/Maize_General.xml\",\n",
    "    parent_tag=\"Output\",\n",
    "    child_tag=\"Output\",\n",
    "    updates = {\"path\":'out_test/'}\n",
    ")\n",
    "# Run Mecha\n",
    "mecha(Geom='Maize_Geometry_aer_test.xml') # seminal root default hydraulic properties"
   ]
  },
  {
   "cell_type": "markdown",
   "id": "13b6adc0",
   "metadata": {},
   "source": [
    "## Changing Sub-cellular hydraulic properties\n",
    "\n",
    "### Sensitivity analysis of hydraulic parameters\n",
    "\n",
    "Run `current_root.xml` with modified hydraulic properties from `Maize_Hydraulics.xml`"
   ]
  },
  {
   "cell_type": "code",
   "execution_count": null,
   "id": "1b09bcb3",
   "metadata": {},
   "outputs": [],
   "source": [
    "# Update Hydraulics\n",
    "update_xml_attributes(\n",
    "    \"./MECHA/Projects/granar/in/Maize_Hydraulics.xml\",\n",
    "    parent_tag=\"kAQPrange\",\n",
    "    child_tag=\"kAQP\",\n",
    "    updates = {\"value\":0.001}, # High value\n",
    "    output_path=\"./MECHA/Projects/granar/in/Maize_Hydraulics_highAQP.xml\"\n",
    ")\n",
    "\n",
    "\n",
    "# Update Hydraulics\n",
    "update_xml_attributes(\n",
    "    \"./MECHA/Projects/granar/in/Maize_Hydraulics.xml\",\n",
    "    parent_tag=\"kwrange\",\n",
    "    child_tag=\"kw\",\n",
    "    updates = {\"value\":\"1.8E-9\"}, # low value\n",
    "    output_path=\"./MECHA/Projects/granar/in/Maize_Hydraulics_lowkw.xml\"\n",
    ")\n",
    "\n",
    "# Update the output path\n",
    "update_xml_attributes(\n",
    "    \"./MECHA/Projects/granar/in/Maize_General.xml\",\n",
    "    parent_tag=\"Output\",\n",
    "    child_tag=\"Output\",\n",
    "    updates = {\"path\":'out_mod_hydraulic/'}\n",
    ")\n",
    "\n",
    "# Run Mecha\n",
    "mecha(Hydr=\"Maize_Hydraulics_lowkw.xml\")\n",
    "mecha(Hydr=\"Maize_Hydraulics_highAQP.xml\")"
   ]
  }
 ],
 "metadata": {
  "kernelspec": {
   "display_name": "Python 3",
   "language": "python",
   "name": "python3"
  },
  "language_info": {
   "codemirror_mode": {
    "name": "ipython",
    "version": 3
   },
   "file_extension": ".py",
   "mimetype": "text/x-python",
   "name": "python",
   "nbconvert_exporter": "python",
   "pygments_lexer": "ipython3",
   "version": "3.5.2"
  }
 },
 "nbformat": 4,
 "nbformat_minor": 5
}
