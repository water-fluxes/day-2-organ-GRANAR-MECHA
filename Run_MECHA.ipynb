{
 "cells": [
  {
   "cell_type": "markdown",
   "metadata": {
    "deletable": true,
    "editable": true
   },
   "source": [
    "MECHA:\n",
    "Upon this generated cross-section and the cell hydraulic properties defined in Hydraulic.xml MECHA estimates the radial hydraulic conductivities (for three scenarios: 1 = an endodermal casparian strip, 2 = a fully suberized endodermis, 3 = fully suberized endodermis and a casparian strip on the exodermis.\n",
    "\n",
    "Change kernel to Python to launch the following script. Once the kernel is changed, all variables stored in R are gone."
   ]
  },
  {
   "cell_type": "code",
   "execution_count": 2,
   "metadata": {
    "collapsed": false,
    "deletable": true,
    "editable": true
   },
   "outputs": [
    {
     "name": "stdout",
     "output_type": "stream",
     "text": [
      "Importing geometrical data\n",
      "Import Geometrical data\n",
      "Creating network nodes\n",
      "Creating network connections\n",
      "Importing hydraulic data\n",
      "Maturity #0 with apoplastic barrier type #1\n",
      "Radial conductivity: 0.00016366878594094897 cm/hPa/d\n",
      "Maturity #1 with apoplastic barrier type #4\n",
      "Radial conductivity: 4.794135423239936e-05 cm/hPa/d\n",
      "End of mecha\n"
     ]
    }
   ],
   "source": [
    "from mecha_function import *\n",
    "\n",
    "mecha()"
   ]
  },
  {
   "cell_type": "code",
   "execution_count": null,
   "id": "80f39e8f",
   "metadata": {},
   "outputs": [],
   "source": [
    "# Update Hydraulics\n",
    "update_xml_attributes(\n",
    "    \"./MECHA/Projects/granar/in/Maize_Hydraulics.xml\",\n",
    "    parent_tag=\"kAQPrange\",\n",
    "    child_tag=\"kAQP\",\n",
    "    updates = {\"value\":0.001}, # High value\n",
    "    output_path=\"./MECHA/Projects/granar/in/Maize_Hydraulics_highAQP.xml\"\n",
    ")\n",
    "\n",
    "# Update the geometry path\n",
    "update_xml_attributes(\n",
    "    \"./MECHA/Projects/granar/in/Maize_Geometry_aer_lat.xml\",\n",
    "    parent_tag=\"path\",\n",
    "    child_tag=\"path\",\n",
    "    updates = {\"value\":\"root_lat.xml\"}\n",
    ")\n",
    "# Update the output path\n",
    "update_xml_attributes(\n",
    "    \"./MECHA/Projects/granar/in/Maize_General.xml\",\n",
    "    parent_tag=\"Output\",\n",
    "    child_tag=\"Output\",\n",
    "    updates = {\"path\":'out_lat/'}\n",
    ")\n",
    "# Run Mecha\n",
    "mecha(Geom='Maize_Geometry_aer_lat.xml', Hydr=\"Maize_Hydraulics_highAQP.xml\") # lateral root with high AQP hydraulic properties\n"
   ]
  },
  {
   "cell_type": "code",
   "execution_count": null,
   "id": "7dab1357",
   "metadata": {},
   "outputs": [],
   "source": [
    "# Update the geometry path\n",
    "update_xml_attributes(\n",
    "    \"./MECHA/Projects/granar/in/Maize_Geometry_aer_sem.xml\",\n",
    "    parent_tag=\"path\",\n",
    "    child_tag=\"path\",\n",
    "    updates = {\"value\":\"root_sem.xml\"}\n",
    ")\n",
    "# Update the output path\n",
    "update_xml_attributes(\n",
    "    \"./MECHA/Projects/granar/in/Maize_General.xml\",\n",
    "    parent_tag=\"Output\",\n",
    "    child_tag=\"Output\",\n",
    "    updates = {\"path\":'out_sem/'}\n",
    ")\n",
    "# Run Mecha\n",
    "mecha(Geom='Maize_Geometry_aer_sem.xml', Hydr=\"Maize_Hydraulics.xml\") # seminal root with default hydraulic properties"
   ]
  },
  {
   "cell_type": "code",
   "execution_count": null,
   "id": "bdd7f9bd",
   "metadata": {},
   "outputs": [],
   "source": [
    "\n",
    "# Update Hydraulics\n",
    "update_xml_attributes(\n",
    "    \"./MECHA/Projects/granar/in/Maize_Hydraulics.xml\",\n",
    "    parent_tag=\"kwrange\",\n",
    "    child_tag=\"kw\",\n",
    "    updates = {\"value\":\"1.8E-9\"}, # low value\n",
    "    output_path=\"./MECHA/Projects/granar/in/Maize_Hydraulicsh_lowkw.xml\"\n",
    ")\n",
    "# Update the geometry path\n",
    "update_xml_attributes(\n",
    "    \"./MECHA/Projects/granar/in/Maize_Geometry_aer_nod.xml\",\n",
    "    parent_tag=\"path\",\n",
    "    child_tag=\"path\",\n",
    "    updates = {\"value\":\"root_nod.xml\"}\n",
    ")\n",
    "# Update the output path\n",
    "update_xml_attributes(\n",
    "    \"./MECHA/Projects/granar/in/Maize_General.xml\",\n",
    "    parent_tag=\"Output\",\n",
    "    child_tag=\"Output\",\n",
    "    updates = {\"path\":'out_nod/'}\n",
    ")\n",
    "# Run Mecha\n",
    "mecha(Geom='Maize_Geometry_aer_nod.xml', Hydr=\"Maize_Hydraulics_lowkw.xml\") # seminal root with low cell wall hydraulic properties"
   ]
  }
 ],
 "metadata": {
  "kernelspec": {
   "display_name": "Python 3",
   "language": "python",
   "name": "python3"
  },
  "language_info": {
   "codemirror_mode": {
    "name": "ipython",
    "version": 3
   },
   "file_extension": ".py",
   "mimetype": "text/x-python",
   "name": "python",
   "nbconvert_exporter": "python",
   "pygments_lexer": "ipython3",
   "version": "3.5.2"
  }
 },
 "nbformat": 4,
 "nbformat_minor": 5
}
